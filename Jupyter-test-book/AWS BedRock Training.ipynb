{
 "cells": [
  {
   "cell_type": "markdown",
   "id": "d7cead8f",
   "metadata": {},
   "source": [
    "### Install Boto 3"
   ]
  },
  {
   "cell_type": "code",
   "execution_count": 1,
   "id": "0b60fe08",
   "metadata": {},
   "outputs": [
    {
     "name": "stdout",
     "output_type": "stream",
     "text": [
      "Requirement already satisfied: boto3==1.34.59 in c:\\users\\asus\\anaconda3\\lib\\site-packages (1.34.59)\n",
      "Requirement already satisfied: botocore<1.35.0,>=1.34.59 in c:\\users\\asus\\anaconda3\\lib\\site-packages (from boto3==1.34.59) (1.34.59)\n",
      "Requirement already satisfied: jmespath<2.0.0,>=0.7.1 in c:\\users\\asus\\anaconda3\\lib\\site-packages (from boto3==1.34.59) (1.0.1)\n",
      "Requirement already satisfied: s3transfer<0.11.0,>=0.10.0 in c:\\users\\asus\\anaconda3\\lib\\site-packages (from boto3==1.34.59) (0.10.0)\n",
      "Requirement already satisfied: python-dateutil<3.0.0,>=2.1 in c:\\users\\asus\\anaconda3\\lib\\site-packages (from botocore<1.35.0,>=1.34.59->boto3==1.34.59) (2.8.2)\n",
      "Requirement already satisfied: urllib3<2.1,>=1.25.4 in c:\\users\\asus\\anaconda3\\lib\\site-packages (from botocore<1.35.0,>=1.34.59->boto3==1.34.59) (1.26.18)\n",
      "Requirement already satisfied: six>=1.5 in c:\\users\\asus\\anaconda3\\lib\\site-packages (from python-dateutil<3.0.0,>=2.1->botocore<1.35.0,>=1.34.59->boto3==1.34.59) (1.16.0)\n"
     ]
    },
    {
     "name": "stderr",
     "output_type": "stream",
     "text": [
      "WARNING: Ignoring invalid distribution -illow (c:\\users\\asus\\anaconda3\\lib\\site-packages)\n",
      "WARNING: Ignoring invalid distribution -illow (c:\\users\\asus\\anaconda3\\lib\\site-packages)\n",
      "WARNING: Ignoring invalid distribution -illow (c:\\users\\asus\\anaconda3\\lib\\site-packages)\n",
      "WARNING: Ignoring invalid distribution -illow (c:\\users\\asus\\anaconda3\\lib\\site-packages)\n",
      "WARNING: Ignoring invalid distribution -illow (c:\\users\\asus\\anaconda3\\lib\\site-packages)\n",
      "WARNING: Ignoring invalid distribution -illow (c:\\users\\asus\\anaconda3\\lib\\site-packages)\n"
     ]
    }
   ],
   "source": [
    "!pip install boto3==1.34.59"
   ]
  },
  {
   "cell_type": "code",
   "execution_count": 1,
   "id": "47b692ae",
   "metadata": {},
   "outputs": [],
   "source": [
    "import boto3 as b3"
   ]
  },
  {
   "cell_type": "code",
   "execution_count": 2,
   "id": "ff73b68d",
   "metadata": {},
   "outputs": [],
   "source": [
    "my_br = b3.client(\n",
    "    service_name=\"bedrock\",\n",
    "    region_name=\"us-east-1\"\n",
    ")"
   ]
  },
  {
   "cell_type": "code",
   "execution_count": 3,
   "id": "72f76be0",
   "metadata": {},
   "outputs": [],
   "source": [
    "list_m = my_br.list_foundation_models()"
   ]
  },
  {
   "cell_type": "code",
   "execution_count": 13,
   "id": "649d8d84",
   "metadata": {},
   "outputs": [],
   "source": [
    "titan_model_id = list_m['modelSummaries'][6]['modelId']\n"
   ]
  },
  {
   "cell_type": "code",
   "execution_count": 20,
   "id": "e8fe562a",
   "metadata": {},
   "outputs": [],
   "source": [
    "m_id = titan_model_id.split(\":\")[0]"
   ]
  },
  {
   "cell_type": "code",
   "execution_count": 21,
   "id": "8b7b7c0b",
   "metadata": {},
   "outputs": [
    {
     "data": {
      "text/plain": [
       "'amazon.titan-text-express-v1'"
      ]
     },
     "execution_count": 21,
     "metadata": {},
     "output_type": "execute_result"
    }
   ],
   "source": [
    "m_id"
   ]
  },
  {
   "cell_type": "code",
   "execution_count": 59,
   "id": "9fe38c02",
   "metadata": {},
   "outputs": [],
   "source": [
    "myprompt = \"What is the Avg GDP of India, tell me in one line ?\""
   ]
  },
  {
   "cell_type": "code",
   "execution_count": 60,
   "id": "9f3513bf",
   "metadata": {},
   "outputs": [],
   "source": [
    "import json"
   ]
  },
  {
   "cell_type": "code",
   "execution_count": 61,
   "id": "4060dc1d",
   "metadata": {},
   "outputs": [],
   "source": [
    "my_json_prompt = json.dumps(\n",
    "    {'inputText': myprompt}\n",
    ")"
   ]
  },
  {
   "cell_type": "code",
   "execution_count": 62,
   "id": "a2726cc9",
   "metadata": {},
   "outputs": [
    {
     "data": {
      "text/plain": [
       "'{\"inputText\": \"What is the Avg GDP of India, tell me in one line ?\"}'"
      ]
     },
     "execution_count": 62,
     "metadata": {},
     "output_type": "execute_result"
    }
   ],
   "source": [
    "my_json_prompt"
   ]
  },
  {
   "cell_type": "code",
   "execution_count": 63,
   "id": "f813583b",
   "metadata": {},
   "outputs": [],
   "source": [
    "my_br_runtime = b3.client(\n",
    "    service_name=\"bedrock-runtime\",\n",
    "    region_name=\"us-east-1\"\n",
    "\n",
    ")"
   ]
  },
  {
   "cell_type": "code",
   "execution_count": 64,
   "id": "7b18aa54",
   "metadata": {},
   "outputs": [],
   "source": [
    "gen_data = my_br_runtime.invoke_model(\n",
    "    body = my_json_prompt,\n",
    "    modelId = m_id\n",
    ")"
   ]
  },
  {
   "cell_type": "code",
   "execution_count": 65,
   "id": "d8efbb27",
   "metadata": {},
   "outputs": [],
   "source": [
    "response_data = gen_data['body'].read()"
   ]
  },
  {
   "cell_type": "code",
   "execution_count": 66,
   "id": "4d06a84c",
   "metadata": {},
   "outputs": [
    {
     "data": {
      "text/plain": [
       "b'{\"inputTextTokenCount\":15,\"results\":[{\"tokenCount\":13,\"outputText\":\"\\\\nThe average GDP of India is $3.2 trillion.\",\"completionReason\":\"FINISH\"}]}'"
      ]
     },
     "execution_count": 66,
     "metadata": {},
     "output_type": "execute_result"
    }
   ],
   "source": [
    "response_data"
   ]
  },
  {
   "cell_type": "code",
   "execution_count": 67,
   "id": "fb037128",
   "metadata": {},
   "outputs": [],
   "source": [
    "convert_bin_to_txt = response_data.decode()"
   ]
  },
  {
   "cell_type": "code",
   "execution_count": 68,
   "id": "d1841bdf",
   "metadata": {},
   "outputs": [],
   "source": [
    "convert_to_json = json.loads(convert_bin_to_txt)"
   ]
  },
  {
   "cell_type": "code",
   "execution_count": 71,
   "id": "7b1f3b31",
   "metadata": {},
   "outputs": [
    {
     "data": {
      "text/plain": [
       "{'inputTextTokenCount': 15,\n",
       " 'results': [{'tokenCount': 13,\n",
       "   'outputText': '\\nThe average GDP of India is $3.2 trillion.',\n",
       "   'completionReason': 'FINISH'}]}"
      ]
     },
     "execution_count": 71,
     "metadata": {},
     "output_type": "execute_result"
    }
   ],
   "source": [
    "convert_to_json"
   ]
  },
  {
   "cell_type": "code",
   "execution_count": 72,
   "id": "641315b6",
   "metadata": {},
   "outputs": [
    {
     "name": "stdout",
     "output_type": "stream",
     "text": [
      "\n",
      "The average GDP of India is $3.2 trillion.\n"
     ]
    }
   ],
   "source": [
    "print(convert_to_json['results'][0]['outputText'])"
   ]
  },
  {
   "cell_type": "markdown",
   "id": "ba8a22d4",
   "metadata": {},
   "source": [
    "## Functions for Agent based Connections"
   ]
  },
  {
   "cell_type": "code",
   "execution_count": 1,
   "id": "bd34c61b",
   "metadata": {},
   "outputs": [],
   "source": [
    "import boto3\n",
    "\n",
    "client = boto3.client('bedrock-agent', region_name=\"us-east-1\")\n"
   ]
  },
  {
   "cell_type": "code",
   "execution_count": 2,
   "id": "2f751d0a",
   "metadata": {},
   "outputs": [
    {
     "data": {
      "text/plain": [
       "{'ResponseMetadata': {'RequestId': '56c14fef-fb8b-418a-bb2b-fff97b55a900',\n",
       "  'HTTPStatusCode': 200,\n",
       "  'HTTPHeaders': {'date': 'Fri, 15 Mar 2024 18:17:05 GMT',\n",
       "   'content-type': 'application/json',\n",
       "   'content-length': '21',\n",
       "   'connection': 'keep-alive',\n",
       "   'x-amzn-requestid': '56c14fef-fb8b-418a-bb2b-fff97b55a900',\n",
       "   'x-amz-apigw-id': 'UruJVG6aoAMENmw=',\n",
       "   'x-amzn-trace-id': 'Root=1-65f490a1-5ac25cab616e97bc2bb11c43'},\n",
       "  'RetryAttempts': 0},\n",
       " 'agentSummaries': []}"
      ]
     },
     "execution_count": 2,
     "metadata": {},
     "output_type": "execute_result"
    }
   ],
   "source": [
    "client.list_agents() # get agents list, I have executed the code again after deleting agent to confirm that id is removed."
   ]
  },
  {
   "cell_type": "code",
   "execution_count": 28,
   "id": "aaf4616c",
   "metadata": {},
   "outputs": [
    {
     "data": {
      "text/plain": [
       "{'ResponseMetadata': {'RequestId': '20d8ffb0-c15d-4109-9157-a9a38e126fe9',\n",
       "  'HTTPStatusCode': 200,\n",
       "  'HTTPHeaders': {'date': 'Fri, 15 Mar 2024 10:44:41 GMT',\n",
       "   'content-type': 'application/json',\n",
       "   'content-length': '541',\n",
       "   'connection': 'keep-alive',\n",
       "   'x-amzn-requestid': '20d8ffb0-c15d-4109-9157-a9a38e126fe9',\n",
       "   'x-amz-apigw-id': 'Uqr38FogIAMEGZg=',\n",
       "   'x-amzn-trace-id': 'Root=1-65f42698-315510c006a7e83d75a74bb0'},\n",
       "  'RetryAttempts': 0},\n",
       " 'agentAliasSummaries': [{'agentAliasId': '3HTL1IN8OL',\n",
       "   'agentAliasName': 'A1',\n",
       "   'description': 'my alias 1',\n",
       "   'routingConfiguration': [{'agentVersion': '1'}],\n",
       "   'agentAliasStatus': 'PREPARED',\n",
       "   'createdAt': datetime.datetime(2024, 3, 15, 10, 23, 5, 355477, tzinfo=tzutc()),\n",
       "   'updatedAt': datetime.datetime(2024, 3, 15, 10, 23, 5, 355477, tzinfo=tzutc())},\n",
       "  {'agentAliasId': 'TSTALIASID',\n",
       "   'agentAliasName': 'AgentTestAlias',\n",
       "   'description': 'Test Alias for Agent',\n",
       "   'routingConfiguration': [{'agentVersion': 'DRAFT'}],\n",
       "   'agentAliasStatus': 'PREPARED',\n",
       "   'createdAt': datetime.datetime(2024, 3, 15, 8, 19, 19, 706480, tzinfo=tzutc()),\n",
       "   'updatedAt': datetime.datetime(2024, 3, 15, 8, 19, 19, 706480, tzinfo=tzutc())}]}"
      ]
     },
     "execution_count": 28,
     "metadata": {},
     "output_type": "execute_result"
    }
   ],
   "source": [
    "client.list_agent_aliases(agentId='REQLUAAZDQ')"
   ]
  },
  {
   "cell_type": "code",
   "execution_count": null,
   "id": "72c8f60a",
   "metadata": {},
   "outputs": [],
   "source": []
  },
  {
   "cell_type": "code",
   "execution_count": 65,
   "id": "a1c2bf7a",
   "metadata": {},
   "outputs": [],
   "source": [
    "client = boto3.client('bedrock-agent-runtime', region_name=\"us-east-1\")"
   ]
  },
  {
   "cell_type": "code",
   "execution_count": 83,
   "id": "87c13969",
   "metadata": {},
   "outputs": [],
   "source": [
    "resp = client.invoke_agent(\n",
    "    sessionId=\"A109\",\n",
    "    agentAliasId='agent-alias-id', # use function client.list_agent_aliases(agentId='AgentID')\n",
    "    enableTrace=False,\n",
    "    endSession=False,\n",
    "    agentId='REQLUAAZDQ',\n",
    "    inputText='lat long for Pune City' # the prompt,)"
   ]
  },
  {
   "cell_type": "code",
   "execution_count": 84,
   "id": "04df9c7b",
   "metadata": {},
   "outputs": [
    {
     "data": {
      "text/plain": [
       "{'ResponseMetadata': {'RequestId': '11e4f133-46ff-4059-b9dc-4ac90364c5be',\n",
       "  'HTTPStatusCode': 200,\n",
       "  'HTTPHeaders': {'date': 'Fri, 15 Mar 2024 11:46:02 GMT',\n",
       "   'content-type': 'application/json',\n",
       "   'transfer-encoding': 'chunked',\n",
       "   'connection': 'keep-alive',\n",
       "   'x-amzn-requestid': '11e4f133-46ff-4059-b9dc-4ac90364c5be',\n",
       "   'x-amz-bedrock-agent-session-id': '47214eca-4bfb-4d8b-a8d0-f1c906700eb4',\n",
       "   'x-amzn-bedrock-agent-content-type': 'application/json'},\n",
       "  'RetryAttempts': 0},\n",
       " 'contentType': 'application/json',\n",
       " 'sessionId': '47214eca-4bfb-4d8b-a8d0-f1c906700eb4',\n",
       " 'completion': <botocore.eventstream.EventStream at 0x1c385400820>}"
      ]
     },
     "execution_count": 84,
     "metadata": {},
     "output_type": "execute_result"
    }
   ],
   "source": [
    "resp #output"
   ]
  },
  {
   "cell_type": "code",
   "execution_count": 85,
   "id": "2e5128a6",
   "metadata": {},
   "outputs": [],
   "source": [
    "response_data = resp['completion']"
   ]
  },
  {
   "cell_type": "code",
   "execution_count": 86,
   "id": "7784ff94",
   "metadata": {},
   "outputs": [
    {
     "name": "stdout",
     "output_type": "stream",
     "text": [
      "{'chunk': {'bytes': b'The latitude and longitude of Pune City are 18.5203 and 73.8567 respectively.'}}\n"
     ]
    }
   ],
   "source": [
    "for d in response_data:\n",
    "    print(d)"
   ]
  },
  {
   "cell_type": "code",
   "execution_count": 97,
   "id": "73363482",
   "metadata": {},
   "outputs": [
    {
     "name": "stdout",
     "output_type": "stream",
     "text": [
      "The latitude and longitude of Pune City are 18.5203 and 73.8567 respectively.\n"
     ]
    }
   ],
   "source": [
    "text = d['chunk']['bytes'].decode('utf-8')\n",
    "\n",
    "# Print the extracted text\n",
    "print(text)"
   ]
  },
  {
   "cell_type": "markdown",
   "id": "996e6cd0",
   "metadata": {},
   "source": [
    "### Doc Link: https://boto3.amazonaws.com/v1/documentation/api/latest/reference/services/bedrock-agent/client/list_agents.html"
   ]
  },
  {
   "cell_type": "code",
   "execution_count": null,
   "id": "5e4afd28",
   "metadata": {},
   "outputs": [],
   "source": []
  }
 ],
 "metadata": {
  "kernelspec": {
   "display_name": "Python 3 (ipykernel)",
   "language": "python",
   "name": "python3"
  },
  "language_info": {
   "codemirror_mode": {
    "name": "ipython",
    "version": 3
   },
   "file_extension": ".py",
   "mimetype": "text/x-python",
   "name": "python",
   "nbconvert_exporter": "python",
   "pygments_lexer": "ipython3",
   "version": "3.10.9"
  }
 },
 "nbformat": 4,
 "nbformat_minor": 5
}
